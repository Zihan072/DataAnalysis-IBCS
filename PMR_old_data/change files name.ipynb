{
 "cells": [
  {
   "cell_type": "code",
   "execution_count": 1,
   "metadata": {},
   "outputs": [],
   "source": [
    "import os"
   ]
  },
  {
   "cell_type": "markdown",
   "metadata": {},
   "source": [
    "# 教程"
   ]
  },
  {
   "cell_type": "markdown",
   "metadata": {},
   "source": [
    "文件名统一命名给WT_Control"
   ]
  },
  {
   "cell_type": "code",
   "execution_count": 3,
   "metadata": {
    "scrolled": true
   },
   "outputs": [
    {
     "name": "stdout",
     "output_type": "stream",
     "text": [
      "A3_WT_Control 1.csv\n",
      "A8_WT_Control 2.csv\n",
      "G6_WT_Control 1.csv\n",
      "A8_WT_Control 3.csv\n",
      "C2_WT_Control 1.csv\n",
      "C2_WT_Control 3.csv\n",
      "A3_WT_Control 2.csv\n",
      "A8_WT_Control 1.csv\n",
      "G6_WT_Control 2.csv\n",
      "F2_WT_Control 1.csv\n",
      "A3_WT_Control 3.csv\n",
      "C2_WT_Control 2.csv\n",
      "A3_WT_Control 7.csv\n",
      "A7_WT_Control 3.csv\n",
      "A8_WT_Control 4.csv\n",
      ".DS_Store\n",
      "F6_WT_Control 1.csv\n",
      "C12_WT_Control 1.csv\n",
      "A11_WT_Control 1.csv\n",
      "A4_WT_Control 8.csv\n",
      "A7_WT_Control 2.csv\n",
      "B2_WT_Control 1.csv\n",
      "A3_WT_Control 6.csv\n",
      "A3_WT_Control 4.csv\n",
      "E3_WT_Control 1.csv\n",
      "F6_WT_Control 2.csv\n",
      "A7_WT_Control 1.csv\n",
      "B2_WT_Control 2.csv\n",
      "A3_WT_Control 5.csv\n",
      "C3_WT_Control 1.csv\n",
      "A9_WT_Control 3.csv\n",
      "A6_WT_Control 4.csv\n",
      "E6_WT_Control 1.csv\n",
      "A9_WT_Control 2.csv\n",
      "D2_WT_Control 2.csv\n",
      "A2_WT_Control 1.csv\n",
      "A2_WT_Control 3.csv\n",
      "A1_WT_Control 9.csv\n",
      "E12_WT_Control 1.csv\n",
      "A9_WT_Control 1.csv\n",
      "D2_WT_Control 1.csv\n",
      "A1_WT_Control 8.csv\n",
      "A2_WT_Control 2.csv\n",
      "A2_WT_Control 6.csv\n",
      "E2_WT_Control 3.csv\n",
      "A6_WT_Control 2.csv\n",
      "A5_WT_Control 8.csv\n",
      "D6_WT_Control 1.csv\n",
      "A10_WT_Control 1.csv\n",
      "A6_WT_Control 3.csv\n",
      "E2_WT_Control 2.csv\n",
      "A2_WT_Control 7.csv\n",
      "A2_WT_Control 5.csv\n",
      "A6_WT_Control 1.csv\n",
      "A10_WT_Control 2.csv\n",
      "E2_WT_Control 1.csv\n",
      "A2_WT_Control 4.csv\n",
      "H6_WT_Control 1.csv\n",
      "A5_WT_Control 7.csv\n",
      "A5_WT_Control 6.csv\n",
      "B4_WT_Control 1.csv\n",
      "A2_WT_Control 8.csv\n",
      "D1_WT_Control 1.csv\n",
      "H6_WT_Control 2.csv\n",
      "E5_WT_Control 1.csv\n",
      "A5_WT_Control 4.csv\n",
      "A5_WT_Control 5.csv\n",
      "A1_WT_Control 5.csv\n",
      "WT_Control 2.csv\n",
      "A5_WT_Control 1.csv\n",
      "C4_WT_Control 1.csv\n",
      "A1_WT_Control 4.csv\n",
      "E1_WT_Control 1.csv\n",
      "A1_WT_Control 6.csv\n",
      "A5_WT_Control 2.csv\n",
      "C4_WT_Control 2.csv\n",
      "A5_WT_Control 3.csv\n",
      "D12_WT_Control 1.csv\n",
      "A1_WT_Control 7.csv\n",
      "E1_WT_Control 2.csv\n",
      "A3_WT_Control 8.csv\n",
      "WT_Control_1.csv\n",
      "A4_WT_Control 6.csv\n",
      "A4_WT_Control 7.csv\n",
      "E4_WT_Control 2.csv\n",
      "C1_WT_Control 2.csv\n",
      "B12_WT_Control 1.csv\n",
      "A4_WT_Control 5.csv\n",
      "A4_WT_Control 4.csv\n",
      "E4_WT_Control 1.csv\n",
      "C1_WT_Control 1.csv\n",
      "C5_WT_Control 1.csv\n",
      "A4_WT_Control 1.csv\n",
      "A12_WT_Control 1.csv\n",
      "A4_WT_Control 3.csv\n",
      "A4_WT_Control 2.csv\n",
      "D4_WT_Control 1.csv\n",
      "B1_WT_Control 1.csv\n"
     ]
    }
   ],
   "source": [
    "#os库中还有一个函数可以获取文件名：(os.listdir(path='.')), \n",
    "#用一个for循环可以获取每一个文件名\n",
    "for file in os.listdir(r\"./Clusting data rename(50µM)/control\"):\n",
    "    print(file)"
   ]
  },
  {
   "cell_type": "markdown",
   "metadata": {},
   "source": [
    "由于图片文件和Python脚本并不在同一文件夹下，所以此时的src和dst并不是简单的文件名，而是由路径+文件名组成。例如，文件%80%90%E4%B8%89%E7%A7%8B%E4.jpg其实是\n",
    "E:/temp/%80%90%E4%B8%89%E7%A7%8B%E4.jpg，所以我们需要将两部分组合起来。\n",
    "\n",
    "Python的os库中有一个函数：\n",
    "\n",
    "os.path.join(path, *paths)\n",
    "该函数合理地拼接一个或多个路径部分，返回值是 path 和 *paths 所有值的连接。\n",
    "\n",
    "上面的例子就可以像下面这样写：\n",
    "\n",
    "os.path.join(r'D:/temp','%80%90%E4%B8%89%E7%A7%8B%E4.jpg')"
   ]
  },
  {
   "cell_type": "markdown",
   "metadata": {},
   "source": [
    "## 操作"
   ]
  },
  {
   "cell_type": "code",
   "execution_count": 8,
   "metadata": {},
   "outputs": [],
   "source": [
    "# FilesBatchRename.py\n",
    "# 导入os库\n",
    "import os\n",
    "\n",
    "# 图片存放的路径\n",
    "path = r\"./Clusting data rename(50µM)/control\"\n",
    "\n",
    "# 遍历更改文件名\n",
    "num = 1\n",
    "for file in os.listdir(path):\n",
    "    os.rename(os.path.join(path,file),os.path.join(path,'WT_Control_'+ str(num))+\".csv\")\n",
    "    num = num + 1"
   ]
  },
  {
   "cell_type": "code",
   "execution_count": null,
   "metadata": {},
   "outputs": [],
   "source": []
  }
 ],
 "metadata": {
  "kernelspec": {
   "display_name": "Python 3",
   "language": "python",
   "name": "python3"
  },
  "language_info": {
   "codemirror_mode": {
    "name": "ipython",
    "version": 3
   },
   "file_extension": ".py",
   "mimetype": "text/x-python",
   "name": "python",
   "nbconvert_exporter": "python",
   "pygments_lexer": "ipython3",
   "version": "3.8.10"
  }
 },
 "nbformat": 4,
 "nbformat_minor": 2
}
