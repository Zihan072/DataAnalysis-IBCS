{
 "cells": [
  {
   "cell_type": "markdown",
   "id": "0042fe65",
   "metadata": {},
   "source": [
    "# 1 Data propressing"
   ]
  },
  {
   "cell_type": "markdown",
   "id": "66571f75",
   "metadata": {},
   "source": [
    "## 1.1 Change files' name "
   ]
  },
  {
   "cell_type": "markdown",
   "id": "01f48f59",
   "metadata": {},
   "source": [
    "## 1.2 dele "
   ]
  },
  {
   "cell_type": "markdown",
   "id": "f1e218c2",
   "metadata": {},
   "source": []
  },
  {
   "cell_type": "markdown",
   "id": "6bd5c8d2",
   "metadata": {},
   "source": []
  },
  {
   "cell_type": "markdown",
   "id": "b46fc1b7",
   "metadata": {},
   "source": []
  },
  {
   "cell_type": "code",
   "execution_count": null,
   "id": "381cb87e",
   "metadata": {},
   "outputs": [],
   "source": []
  }
 ],
 "metadata": {
  "kernelspec": {
   "display_name": "Python 3",
   "language": "python",
   "name": "python3"
  },
  "language_info": {
   "codemirror_mode": {
    "name": "ipython",
    "version": 3
   },
   "file_extension": ".py",
   "mimetype": "text/x-python",
   "name": "python",
   "nbconvert_exporter": "python",
   "pygments_lexer": "ipython3",
   "version": "3.8.10"
  }
 },
 "nbformat": 4,
 "nbformat_minor": 5
}
